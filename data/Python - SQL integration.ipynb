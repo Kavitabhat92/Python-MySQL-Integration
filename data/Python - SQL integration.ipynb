{
 "cells": [
  {
   "cell_type": "markdown",
   "metadata": {},
   "source": [
    "## Import data from Excel into MySQL using Python\n",
    "\n",
    "### This project is about importing the data from Excel to MySql Database using Python. \n",
    "##### Before downloading the dependencies, make sure the packages required for interfacing MySQL and Excel are installed on the system. For this program, since I have Python 3.7 updated, I have made use of the PyMySQL package.\n",
    "\n",
    "##### P.S. The MySQL version used is 8.0"
   ]
  },
  {
   "cell_type": "code",
   "execution_count": 8,
   "metadata": {},
   "outputs": [],
   "source": [
    "#### Download the dependencies\n",
    "#### Dwnload and install the xlrd library and MySQLdb module-\n",
    "import xlrd\n",
    "import MySQLdb\n"
   ]
  },
  {
   "cell_type": "code",
   "execution_count": 9,
   "metadata": {},
   "outputs": [],
   "source": [
    "##### The database name is Sample and the table that needs to be inserted in titanic\n",
    "\n",
    "book = xlrd.open_workbook(\"C:/Users/Kavita Bhat/Desktop/titanic.xls\")\n",
    "sheet = book.sheet_by_name(\"titanic\")"
   ]
  },
  {
   "cell_type": "code",
   "execution_count": 10,
   "metadata": {},
   "outputs": [],
   "source": [
    "####establishing a connection with the root server. Make sure the encrypted password string is the one that is used for the \n",
    "#### passwd field in the connect()\n",
    "database = MySQLdb.connect (host=\"localhost\", user = \"root\", passwd = \" \", db = \"Sample\")\n"
   ]
  },
  {
   "cell_type": "code",
   "execution_count": 11,
   "metadata": {},
   "outputs": [],
   "source": [
    "##### A cursor allows you to iterate a set of rows returned by a query and process each row accordingly.\n",
    "\n",
    "cursor = database.cursor()"
   ]
  },
  {
   "cell_type": "code",
   "execution_count": 12,
   "metadata": {},
   "outputs": [],
   "source": [
    "##### A MySQL insert statement is stored as a string   \n",
    "\n",
    "query = \"\"\"INSERT INTO titanic (PassengerId, Survived, Pclass, Passenger_name, Sex, Age, SibSp,\n",
    "Parch, Ticket, Fare, Cabin,Embarked) VALUES (%s, %s, %s, %s, %s, %s, %s, %s, %s, %s, %s, %s)\"\"\"\n"
   ]
  },
  {
   "cell_type": "code",
   "execution_count": 13,
   "metadata": {},
   "outputs": [
    {
     "name": "stdout",
     "output_type": "stream",
     "text": [
      "Importing rows to MySQL table is Completed\n"
     ]
    }
   ],
   "source": [
    "##### Create a For loop to iterate through each row in the XLS file, starting at row 2 to skip the headers\n",
    "\n",
    "for r in range(1, sheet.nrows):\n",
    "    PassengerId = sheet.cell(r,0).value\n",
    "    Survived    = sheet.cell(r,1).value\n",
    "    Pclass      = sheet.cell(r,2).value\n",
    "    Passenger_name  = sheet.cell(r,3).value\n",
    "    Sex         = sheet.cell(r,4).value\n",
    "    Age         = sheet.cell(r,5).value\n",
    "    SibSp       = sheet.cell(r,6).value\n",
    "    Parch       = sheet.cell(r,7).value\n",
    "    Ticket      = sheet.cell(r,8).value\n",
    "    Fare        = sheet.cell(r,9).value\n",
    "    Cabin       = sheet.cell(r,10).value\n",
    "    Embarked    = sheet.cell(r,11).value\n",
    "    \n",
    "    # Assign values from each row\n",
    "    values = (PassengerId, Survived, Pclass, Passenger_name, Sex, Age, SibSp, Parch, Ticket, Fare, Cabin,Embarked)\n",
    "    \n",
    "    # Execute sql Query\n",
    "    cursor.execute(query, values)\n",
    "    \n",
    "cursor.close()\n",
    "\n",
    "# Commit the transaction\n",
    "database.commit()\n",
    "\n",
    "# Close the database connection\n",
    "database.close()\n",
    "\n",
    "# Print results\n",
    "print(\"Importing rows to MySQL table is Completed\")"
   ]
  },
  {
   "cell_type": "code",
   "execution_count": null,
   "metadata": {},
   "outputs": [],
   "source": []
  }
 ],
 "metadata": {
  "kernelspec": {
   "display_name": "Python 3",
   "language": "python",
   "name": "python3"
  },
  "language_info": {
   "codemirror_mode": {
    "name": "ipython",
    "version": 3
   },
   "file_extension": ".py",
   "mimetype": "text/x-python",
   "name": "python",
   "nbconvert_exporter": "python",
   "pygments_lexer": "ipython3",
   "version": "3.7.1"
  }
 },
 "nbformat": 4,
 "nbformat_minor": 2
}
